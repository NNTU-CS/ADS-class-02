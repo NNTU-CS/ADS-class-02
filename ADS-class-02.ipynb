{
 "cells": [
  {
   "cell_type": "markdown",
   "metadata": {},
   "source": [
    "# Практическое занятие 02. Алгоритмы на массивах\n",
    "\n",
    "**Массивы** представляют собой популярную и простую структуру данных\n",
    "\n",
    "![](./array-3.svg)"
   ]
  },
  {
   "cell_type": "markdown",
   "metadata": {},
   "source": [
    "### Объявление массива из 50 элементов типа int"
   ]
  },
  {
   "cell_type": "code",
   "execution_count": 8,
   "metadata": {},
   "outputs": [],
   "source": [
    "const int size = 50;\n",
    "int array[size]={0};\n"
   ]
  },
  {
   "cell_type": "markdown",
   "metadata": {},
   "source": [
    "### Рассмотрим задачу генерации псевдослучайного числа (ПСЧ) в заданном диапазоне"
   ]
  },
  {
   "cell_type": "code",
   "execution_count": 9,
   "metadata": {},
   "outputs": [],
   "source": [
    "#include <cstdlib>\n",
    "#include <ctime>\n",
    "#include <iostream>"
   ]
  },
  {
   "cell_type": "code",
   "execution_count": 10,
   "metadata": {
    "scrolled": true
   },
   "outputs": [
    {
     "name": "stdout",
     "output_type": "stream",
     "text": [
      "41"
     ]
    },
    {
     "data": {
      "text/plain": [
       "@0x10f3e3c30"
      ]
     },
     "execution_count": 10,
     "metadata": {},
     "output_type": "execute_result"
    }
   ],
   "source": [
    "std::cout << rand() % 100 + 1; // вызов библиотечной функции rand()"
   ]
  },
  {
   "cell_type": "markdown",
   "metadata": {},
   "source": [
    "### Пользовательская функция для получения числа от a до b"
   ]
  },
  {
   "cell_type": "code",
   "execution_count": 11,
   "metadata": {},
   "outputs": [],
   "source": [
    "int random(int a, int b) {\n",
    "    return a + rand() % (b - a + 1);\n",
    "}\n"
   ]
  },
  {
   "cell_type": "code",
   "execution_count": 12,
   "metadata": {},
   "outputs": [
    {
     "name": "stdout",
     "output_type": "stream",
     "text": [
      "9\n"
     ]
    }
   ],
   "source": [
    "std::cout << random(5,10) << std::endl;"
   ]
  },
  {
   "cell_type": "code",
   "execution_count": 13,
   "metadata": {},
   "outputs": [
    {
     "name": "stdout",
     "output_type": "stream",
     "text": [
      "8\n",
      "6\n"
     ]
    }
   ],
   "source": [
    "std::cout << random(5,10) << std::endl;\n",
    "std::cout << random(5,10) << std::endl;"
   ]
  },
  {
   "cell_type": "markdown",
   "metadata": {},
   "source": [
    "### Функция чтения \"эпохального времени\""
   ]
  },
  {
   "cell_type": "code",
   "execution_count": 14,
   "metadata": {},
   "outputs": [
    {
     "name": "stdout",
     "output_type": "stream",
     "text": [
      "1645797008"
     ]
    },
    {
     "data": {
      "text/plain": [
       "@0x10f3e3c30"
      ]
     },
     "execution_count": 14,
     "metadata": {},
     "output_type": "execute_result"
    }
   ],
   "source": [
    "std::cout << time(nullptr);\n",
    "\n",
    "// время, прошедшее с 01.01.1970 в секундах"
   ]
  },
  {
   "cell_type": "markdown",
   "metadata": {},
   "source": [
    "### Использование time для рандомизации ряда ПСЧ"
   ]
  },
  {
   "cell_type": "code",
   "execution_count": 15,
   "metadata": {},
   "outputs": [
    {
     "name": "stdout",
     "output_type": "stream",
     "text": [
      "7 7 9 7 6 6 7 2 1 6 "
     ]
    }
   ],
   "source": [
    "srand(time(nullptr)); // n0\n",
    "for(int i=0;i < 10; i++) {\n",
    "   std::cout << random(1,10) << \" \";\n",
    "}"
   ]
  },
  {
   "cell_type": "markdown",
   "metadata": {},
   "source": [
    "### Функция, заполняющая массив ПСЧ (произвольный порядок)"
   ]
  },
  {
   "cell_type": "code",
   "execution_count": 16,
   "metadata": {},
   "outputs": [],
   "source": [
    "void gen1(int arr[], int size, int a, int b) {\n",
    "    for(int i = 0; i < size; i++)\n",
    "        arr[i] = random(a, b);\n",
    "}"
   ]
  },
  {
   "cell_type": "code",
   "execution_count": 17,
   "metadata": {},
   "outputs": [],
   "source": [
    "void printArray(int arr[], int size) {\n",
    "    for(int i = 0; i < size; i++)\n",
    "        std::cout << arr[i] << \" \";\n",
    "    std::cout << std::endl;\n",
    "}"
   ]
  },
  {
   "cell_type": "code",
   "execution_count": 18,
   "metadata": {},
   "outputs": [
    {
     "name": "stdout",
     "output_type": "stream",
     "text": [
      "83 3 76 64 90 53 60 35 10 58 75 27 60 3 88 29 18 87 16 26 23 17 99 98 19 35 18 34 71 91 10 89 69 75 40 84 61 13 43 61 44 1 67 67 28 76 1 58 9 41 32 38 49 72 63 74 65 42 22 35 98 89 21 87 95 9 80 98 82 66 75 32 27 30 79 29 46 20 66 54 53 93 72 75 61 88 75 72 84 47 83 41 1 77 30 45 48 86 49 96 12 13 74 93 62 6 66 10 22 37 99 12 54 53 14 30 61 92 33 3 17 22 79 96 41 15 48 71 79 78 72 59 54 97 86 73 35 6 85 47 91 55 79 5 6 66 35 7 47 57 \n"
     ]
    }
   ],
   "source": [
    "const int n = 150;\n",
    "int array[n];\n",
    "gen1(array,n,0,99);\n",
    "printArray(array,n);"
   ]
  },
  {
   "cell_type": "markdown",
   "metadata": {},
   "source": [
    "### Функция, заполняющая массив ПСЧ (по возрастанию!)"
   ]
  },
  {
   "cell_type": "code",
   "execution_count": 25,
   "metadata": {},
   "outputs": [],
   "source": [
    "// 4 5 5 5 6 7 8 9\n",
    "//               \n",
    "\n",
    "void gen2(int arr[], int size, int a, int b) {\n",
    "    int number = 0, j = 0;\n",
    "    for(int i = 0; i < size; i++) {\n",
    "        number = random(a, b);\n",
    "        j = i - 1;\n",
    "        while(j >= 0 && number < arr[j]) {\n",
    "            arr[j+1] = arr[j];\n",
    "            j--;\n",
    "        }\n",
    "        arr[j+1] = number;\n",
    "    }\n",
    "}"
   ]
  },
  {
   "cell_type": "code",
   "execution_count": 26,
   "metadata": {},
   "outputs": [
    {
     "name": "stdout",
     "output_type": "stream",
     "text": [
      "2 3 3 3 4 4 5 5 5 6 6 6 7 7 7 7 8 8 9 9 10 10 10 11 11 13 13 14 14 14 15 15 16 17 17 17 17 19 20 21 21 23 23 24 25 26 27 30 30 31 31 32 33 33 34 34 35 35 35 36 37 37 37 38 39 39 39 39 40 41 41 42 42 42 43 43 43 45 50 52 52 54 55 55 56 56 57 60 61 61 64 65 65 65 66 66 69 69 69 72 73 73 73 74 74 75 75 76 76 77 77 77 77 78 78 79 79 79 80 80 81 81 84 84 84 84 85 86 87 87 88 89 89 90 91 91 92 94 94 94 95 95 95 96 97 97 97 98 99 99 \n"
     ]
    }
   ],
   "source": [
    "const int n = 150;\n",
    "int array[n];\n",
    "gen2(array,n,1,99);\n",
    "printArray(array,n);"
   ]
  },
  {
   "cell_type": "markdown",
   "metadata": {},
   "source": [
    "### Линейный поиск в массиве (упорядоченном/неупорядоченном)"
   ]
  },
  {
   "cell_type": "code",
   "execution_count": 21,
   "metadata": {},
   "outputs": [],
   "source": [
    "bool linSearch(int arr[], int size, int number) {\n",
    "    for(int i = 0; i < size; i++)\n",
    "        if(arr[i] == number)\n",
    "            return true;\n",
    "    return false;\n",
    "}\n",
    "\n",
    "// 1. Да/нет\n",
    "// 2. Позиция -1\n",
    "// 3. Счетчик 0\n"
   ]
  },
  {
   "cell_type": "code",
   "execution_count": 27,
   "metadata": {},
   "outputs": [
    {
     "name": "stdout",
     "output_type": "stream",
     "text": [
      "1"
     ]
    }
   ],
   "source": [
    "std::cout << linSearch(array,n,98);"
   ]
  },
  {
   "cell_type": "markdown",
   "metadata": {},
   "source": [
    "### Бинарный поиск в массиве (упорядоченном)"
   ]
  },
  {
   "cell_type": "code",
   "execution_count": 23,
   "metadata": {},
   "outputs": [],
   "source": [
    "bool binSearch(int arr[], int size, int number) {\n",
    "    int i = 0, j = size - 1; // i - левая граница массива, j - правая\n",
    "    while(i < j) {\n",
    "        int mid = i + (j - i) / 2;\n",
    "        if(arr[mid] == number)\n",
    "            return true;\n",
    "        else if(arr[mid] > number)\n",
    "            j = mid;\n",
    "        else\n",
    "            i = mid + 1;\n",
    "    }\n",
    "    return false;\n",
    "}"
   ]
  },
  {
   "cell_type": "code",
   "execution_count": 24,
   "metadata": {},
   "outputs": [
    {
     "name": "stdout",
     "output_type": "stream",
     "text": [
      "1"
     ]
    }
   ],
   "source": [
    "std::cout << binSearch(array,n,83);"
   ]
  },
  {
   "cell_type": "markdown",
   "metadata": {},
   "source": [
    "### Группировка элементов массива (перестановка относительно выбранного)"
   ]
  },
  {
   "cell_type": "code",
   "execution_count": 29,
   "metadata": {},
   "outputs": [],
   "source": [
    "void group(int arr[], int size,int value) {\n",
    "   int left=0, right=size-1; \n",
    "   while (left<right) {\n",
    "      if(arr[left]<=value) \n",
    "         left++;\n",
    "      else if(arr[right]>value) \n",
    "         right--;\n",
    "      else if(arr[left]>value && arr[right]<=value) {\n",
    "         int t=arr[left]; \n",
    "         arr[left]=arr[right]; \n",
    "         arr[right]=t;\n",
    "      }\n",
    "   }\n",
    "}"
   ]
  },
  {
   "cell_type": "code",
   "execution_count": 30,
   "metadata": {},
   "outputs": [
    {
     "name": "stdout",
     "output_type": "stream",
     "text": [
      "4 3 1 2 5 7 9 9 8 7 \n"
     ]
    }
   ],
   "source": [
    "int arr[] = {4,8,9,2,5,7,9,1,3,7};\n",
    "group(arr, 10, 5); // группируем относительно 5\n",
    "printArray(arr, 10);"
   ]
  },
  {
   "cell_type": "markdown",
   "metadata": {},
   "source": [
    "## Задача нахождения сумм двух элементов в массиве"
   ]
  },
  {
   "cell_type": "markdown",
   "metadata": {},
   "source": [
    "**Задача**: `Имеется массив целых чисел. Найти все пары элементов массива, суммы которых равны заданному числу.`"
   ]
  },
  {
   "cell_type": "markdown",
   "metadata": {},
   "source": [
    "Например, в массиве **20,30,30,40,40** при данном числе **50** содержатся 2 пары элементов, в сумме дающих заданное: \n",
    "\n",
    "`arr[0]+arr[1]` и `arr[0]+arr[2]`"
   ]
  },
  {
   "cell_type": "markdown",
   "metadata": {},
   "source": [
    "Рассматривается два варианта массива: с упорядоченными и неупорядоченными данными.\n",
    "\n",
    "Во-первых, если массив неупорядочен и содержит случайные элементы, то решение находится методом перебора всех сумм (**Полный перебор**).\n",
    "\n",
    "Во-вторых, если массив упорядочен по возрастанию, тогда можно предложить более экономный вариант. Нужно создать два указателя на концы массива и двигаться навстречу друг другу, отбрасывая элементы, которые в сумме дают число больше заданного (**усеченный перебор**).\n",
    "\n",
    "В-третьих, в случае упорядоченного массива, можно воспользоваться модифицированным алгоритмом бинарного поиска."
   ]
  },
  {
   "cell_type": "markdown",
   "metadata": {},
   "source": [
    "![](./sums.png)"
   ]
  },
  {
   "cell_type": "markdown",
   "metadata": {},
   "source": [
    "Тот же график, но с использованием логарифмического масштаба"
   ]
  },
  {
   "cell_type": "markdown",
   "metadata": {},
   "source": [
    "![](./sums-log.png)"
   ]
  },
  {
   "cell_type": "code",
   "execution_count": null,
   "metadata": {},
   "outputs": [],
   "source": []
  }
 ],
 "metadata": {
  "kernelspec": {
   "display_name": "C++11 [conda env:xeus-cling]",
   "language": "C++11",
   "name": "conda-env-xeus-cling-xcpp11"
  },
  "language_info": {
   "codemirror_mode": "text/x-c++src",
   "file_extension": ".cpp",
   "mimetype": "text/x-c++src",
   "name": "c++",
   "version": "11"
  }
 },
 "nbformat": 4,
 "nbformat_minor": 4
}
